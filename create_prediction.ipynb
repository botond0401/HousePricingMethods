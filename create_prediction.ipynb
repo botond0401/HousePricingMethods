{
 "cells": [
  {
   "cell_type": "code",
   "execution_count": 1,
   "metadata": {},
   "outputs": [],
   "source": [
    "import pandas as pd\n",
    "from sklearn.model_selection import GridSearchCV\n",
    "from sklearn.impute import SimpleImputer\n",
    "from sklearn.preprocessing import MinMaxScaler\n",
    "from load_data import DataLoader\n",
    "from datetime import date\n",
    "from sklearn.ensemble import RandomForestRegressor\n",
    "from sklearn.impute import KNNImputer\n",
    "from statsmodels.stats.outliers_influence import variance_inflation_factor\n",
    "from statsmodels.tools.tools import add_constant\n",
    "\n",
    "# Initialize the MinMaxScaler\n",
    "scaler = MinMaxScaler()\n"
   ]
  },
  {
   "cell_type": "code",
   "execution_count": 2,
   "metadata": {},
   "outputs": [],
   "source": [
    "dataloader = DataLoader()\n",
    "dataloader.load_data('data/train.csv')\n",
    "dataloader.preprocess_data()\n",
    "df_train = dataloader.data\n",
    "\n",
    "df_train_target = df_train['SalePrice']\n",
    "df_train = df_train.drop(columns='SalePrice')\n",
    "\n",
    "dataloader.load_data('data/test.csv')\n",
    "dataloader.preprocess_data()\n",
    "df_test = dataloader.data\n"
   ]
  },
  {
   "cell_type": "code",
   "execution_count": 3,
   "metadata": {},
   "outputs": [],
   "source": [
    "missing_columns = [col for col in df_train.columns if col not in df_test]\n",
    "df_test[missing_columns] = 0\n",
    "df_test = df_test[df_train.columns]\n"
   ]
  },
  {
   "cell_type": "code",
   "execution_count": 5,
   "metadata": {},
   "outputs": [
    {
     "name": "stdout",
     "output_type": "stream",
     "text": [
      "Fitting 5 folds for each of 1 candidates, totalling 5 fits\n",
      "Best Parameters: {'max_depth': 12, 'min_samples_leaf': 1, 'min_samples_split': 2, 'n_estimators': 100}\n",
      "Best CV Score (neg_mean_squared_error): -915084761.0303571\n"
     ]
    }
   ],
   "source": [
    "# Define the parameter grid to search over\n",
    "param_grid = {\n",
    "    'max_depth': [12],\n",
    "    'n_estimators': [100],\n",
    "    'min_samples_split': [2],\n",
    "    'min_samples_leaf': [1]\n",
    "}\n",
    "\n",
    "\n",
    "model = RandomForestRegressor(max_depth=21, n_estimators=100, random_state=42)\n",
    "# Initialize GridSearchCV\n",
    "grid_search = GridSearchCV(estimator=model, param_grid=param_grid, cv=5, scoring='neg_mean_squared_error', verbose=1)\n",
    "\n",
    "# Fit GridSearchCV\n",
    "grid_search.fit(df_train, df_train_target)\n",
    "\n",
    "# Print best parameters and best score\n",
    "print(\"Best Parameters:\", grid_search.best_params_)\n",
    "print(\"Best CV Score (neg_mean_squared_error):\", grid_search.best_score_)\n",
    "\n",
    "# Get the best model\n",
    "best_model = grid_search.best_estimator_\n"
   ]
  },
  {
   "cell_type": "code",
   "execution_count": 6,
   "metadata": {},
   "outputs": [],
   "source": [
    "best_model.fit(df_train, df_train_target)\n",
    "\n",
    "y_pred = best_model.predict(df_test)\n",
    "df_guess = pd.DataFrame(y_pred, columns=['SalePrice'])\n",
    "df_guess['Id'] = range(1461, 2920)\n",
    "df_guess = df_guess[['Id', 'SalePrice']]\n",
    "# Get today's date\n",
    "today = date.today()\n",
    "df_guess.to_csv(f'predictions/prediction_{today}.csv', index=False)\n"
   ]
  }
 ],
 "metadata": {
  "kernelspec": {
   "display_name": "Python 3",
   "language": "python",
   "name": "python3"
  },
  "language_info": {
   "codemirror_mode": {
    "name": "ipython",
    "version": 3
   },
   "file_extension": ".py",
   "mimetype": "text/x-python",
   "name": "python",
   "nbconvert_exporter": "python",
   "pygments_lexer": "ipython3",
   "version": "3.11.2"
  }
 },
 "nbformat": 4,
 "nbformat_minor": 2
}
